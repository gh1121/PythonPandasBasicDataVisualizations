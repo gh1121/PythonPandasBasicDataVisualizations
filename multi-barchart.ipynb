{
 "cells": [
  {
   "cell_type": "markdown",
   "metadata": {},
   "source": [
    "# Multi-Barcharts in Pandas\n",
    "\n",
    "In this notebook, we'll explore how to generate multi-barcharts using pandas. These are especially useful when we want to compare the average values of multiple numerical variables across different categories. Let's prep the page by importing the pandas library:"
   ]
  },
  {
   "cell_type": "code",
   "execution_count": null,
   "metadata": {},
   "outputs": [],
   "source": [
    "import pandas as pd"
   ]
  },
  {
   "cell_type": "markdown",
   "metadata": {},
   "source": [
    "## Load the dataset\n",
    "Load and preview the sample dataset with the code below:"
   ]
  },
  {
   "cell_type": "code",
   "execution_count": 2,
   "metadata": {},
   "outputs": [],
   "source": [
    "url = 'https://raw.githubusercontent.com/mwaskom/seaborn-data/master/mpg.csv'\n",
    "df = pd.read_csv(url)\n",
    "df.head()"
   ]
  },
  {
   "cell_type": "markdown",
   "metadata": {},
   "source": [
    "## Non-Stacked Multi-Barchart\n",
    "\n",
    "We'll start by creating a multi-barchart that is not stacked. This type of plot is useful when you want to compare absolute values across categories. Here we're comparing the average horsepower and miles per gallon (mpg) for cars from different origins."
   ]
  },
  {
   "cell_type": "code",
   "execution_count": null,
   "metadata": {},
   "outputs": [],
   "source": [
    "(pd\n",
    " .pivot_table(data = df, \n",
    "              index = [\"origin\"], \n",
    "              values = ['horsepower', 'mpg'], \n",
    "              aggfunc = 'mean' )\n",
    " .plot\n",
    " .bar(stacked = False))"
   ]
  },
  {
   "cell_type": "markdown",
   "metadata": {},
   "source": [
    "## Stacked Multi-Barchart\n",
    "\n",
    "Now, let's create a stacked multi-barchart. This type of plot is useful when you want to compare the proportions of sub-categories across different main categories. Here we compare the total number of cars per region per year (after 1975) that had more than 100 horsepower. This time, however, we're stacking the bars. From this chart, you can immediately see how dominant US cars were when it came to high horsepower - at least until the second oil crisis hit the industry in the 1980s."
   ]
  },
  {
   "cell_type": "code",
   "execution_count": null,
   "metadata": {},
   "outputs": [],
   "source": [
    "(pd.pivot_table(\n",
    "    df.query('model_year >= 75').assign(hp_is_above_100=df['horsepower'] > 100),\n",
    "    index=['model_year', 'origin'],\n",
    "    values='hp_is_above_100',\n",
    "    aggfunc='sum')\n",
    " .unstack()\n",
    " .plot\n",
    " .bar(stacked=True)\n",
    " .legend(loc='center left', bbox_to_anchor=(1.0, 0.5)))"
   ]
  },
  {
   "cell_type": "markdown",
   "metadata": {},
   "source": [
    "In addition to displaying absolute values, multi-barcharts are also a great tool for comparing relative proportions (i.e., percentages). In this case, we first need to calculate the percentage of each category within the group `model_year`.\n",
    "\n",
    "To do that, we can use the `div` function to divide the counts of each 'origin' by the total counts within each `model_year`. This results in a dataframe where the values represent the percentage of each `origin` within each `model_year`:"
   ]
  },
  {
   "cell_type": "code",
   "execution_count": null,
   "metadata": {},
   "outputs": [],
   "source": [
    "pivot = pd.pivot_table(\n",
    "    df.query('model_year >= 75').assign(hp_is_above_100=df['horsepower'] > 100),\n",
    "    index='model_year',\n",
    "    columns='origin',\n",
    "    values='hp_is_above_100',\n",
    "    aggfunc='sum'\n",
    ")\n",
    "\n",
    "# Calculate the percentage of each category within each group\n",
    "pivot = pivot.div(pivot.sum(axis=1), axis=0) * 100\n",
    "\n",
    "# Plot\n",
    "pivot.plot(kind='bar', stacked=True).legend(loc='center left', bbox_to_anchor=(1.0, 0.5))\n"
   ]
  },
  {
   "cell_type": "markdown",
   "metadata": {},
   "source": [
    "Congratulations! You have learned how to use multi-barcharts to visualize and compare multiple numeric variables across different categories. Multi-barcharts are a powerful tool in your data visualization arsenal!"
   ]
  }
 ],
 "metadata": {
  "kernelspec": {
   "display_name": "Python 3.11",
   "language": "python",
   "name": "python311"
  },
  "language_info": {
   "codemirror_mode": {
    "name": "ipython",
    "version": 3
   },
   "file_extension": ".py",
   "mimetype": "text/x-python",
   "name": "python",
   "nbconvert_exporter": "python",
   "pygments_lexer": "ipython3",
   "version": "3.11.0"
  }
 },
 "nbformat": 4,
 "nbformat_minor": 5
}
