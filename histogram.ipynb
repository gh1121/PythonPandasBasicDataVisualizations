{
 "cells": [
  {
   "cell_type": "markdown",
   "metadata": {},
   "source": [
    "# Histograms with Pandas\n",
    "\n",
    "Histograms are graphical representations that organize a group of data points into a specified range. In this notebook, we'll learn how to generate histograms using pandas. To start off, let's import the pandas library:"
   ]
  },
  {
   "cell_type": "code",
   "execution_count": null,
   "metadata": {},
   "outputs": [],
   "source": [
    "import pandas as pd"
   ]
  },
  {
   "cell_type": "markdown",
   "metadata": {},
   "source": [
    "## Load the Data\n",
    "Now, let's load and preview our sample data:"
   ]
  },
  {
   "cell_type": "code",
   "execution_count": null,
   "metadata": {},
   "outputs": [],
   "source": [
    "url = 'https://raw.githubusercontent.com/mwaskom/seaborn-data/master/mpg.csv'\n",
    "df = pd.read_csv(url)\n",
    "df.head()"
   ]
  },
  {
   "cell_type": "markdown",
   "metadata": {},
   "source": [
    "## Generate a Histogram\n",
    "\n",
    "A histogram represents the distribution of a numerical variable. It partitions the spread of the numeric data into bins, counts the number of observations in each bin, and shows the bins on the x-axis and the counts on the y-axis. The `hist` function in pandas is a convenient tool to create histograms.\n",
    "\n",
    "You can find more details about the `hist` function in the [Pandas Documentation](https://pandas.pydata.org/docs/reference/api/pandas.DataFrame.hist.html).\n",
    "\n",
    "We can customize the number of bins using the `bins` argument. Let's plot a histogram of the 'mpg' (miles per gallon) column with 20 bins."
   ]
  },
  {
   "cell_type": "code",
   "execution_count": null,
   "metadata": {},
   "outputs": [],
   "source": [
    "df['mpg'].plot.hist(bins=20)"
   ]
  },
  {
   "cell_type": "markdown",
   "metadata": {},
   "source": [
    "In this histogram, you can observe the distribution of 'mpg' across different bins. The `bins` argument allows us to adjust the granularity of the histogram."
   ]
  },
  {
   "cell_type": "markdown",
   "metadata": {},
   "source": [
    "And there you have it! You have successfully created a histogram to visualize the distribution of a numerical variable. Histograms are a powerful tool for understanding the distribution of your data."
   ]
  }
 ],
 "metadata": {
  "kernelspec": {
   "display_name": "Python 3",
   "language": "python",
   "name": "python3"
  },
  "language_info": {
   "codemirror_mode": {
    "name": "ipython",
    "version": 3
   },
   "file_extension": ".py",
   "mimetype": "text/x-python",
   "name": "python",
   "nbconvert_exporter": "python",
   "pygments_lexer": "ipython3",
   "version": "3.11.0"
  }
 },
 "nbformat": 4,
 "nbformat_minor": 4
}
