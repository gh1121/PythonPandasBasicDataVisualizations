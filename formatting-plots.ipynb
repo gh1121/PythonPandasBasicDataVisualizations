{
 "cells": [
  {
   "cell_type": "markdown",
   "metadata": {},
   "source": [
    "# Formatting Plots in Pandas\n",
    "In this notebook, we'll explore how to use built-in functions in pandas to customize the appearance of our plots. We'll adjust the figure size, colors, and markers. To illustrate the native capabilities of pandas, we won't import any extra libraries like Matplotlib. However, it's important to note that Matplotlib must still be installed, as pandas's plotting capabilities are built upon it, even though we don't need to explicitly import it in our code.\n",
    "For more advanced customization, importing Matplotlib or Seaborn as a separate library might be required. Remember that pandas plotting is best for quick exploratory plots, while libraries like Matplotlib or Seaborn are preferred when more customization is required.\n",
    "\n",
    "First things first: let's import the Pandas library:"
   ]
  },
  {
   "cell_type": "code",
   "execution_count": null,
   "metadata": {},
   "outputs": [],
   "source": [
    "import pandas as pd"
   ]
  },
  {
   "cell_type": "markdown",
   "metadata": {},
   "source": [
    "## Load the Data\n",
    "Load and preview our sample data:"
   ]
  },
  {
   "cell_type": "code",
   "execution_count": null,
   "metadata": {},
   "outputs": [],
   "source": [
    "url = 'https://raw.githubusercontent.com/mwaskom/seaborn-data/master/mpg.csv'\n",
    "df = pd.read_csv(url)\n",
    "df.head()"
   ]
  },
  {
   "cell_type": "markdown",
   "metadata": {},
   "source": [
    "## Customizing Figure Size\n",
    "Firstly, let's start by customizing the figure size using the `figsize` attribute. The `figsize` defines the width and height of a figure in inches."
   ]
  },
  {
   "cell_type": "code",
   "execution_count": null,
   "metadata": {},
   "outputs": [],
   "source": [
    "df['mpg'].plot.hist(bins=20, figsize=(10,6))"
   ]
  },
  {
   "cell_type": "markdown",
   "metadata": {},
   "source": [
    "## Customizing Colors\n",
    "Now, let's customize the color of our plot. Pandas accepts any Matplotlib color specification, such as a string like `'blue'` or `'red'`, a hexadecimal string like `'#FF00FF'`, or an RGB tuple like `(0.9, 0.2, 0.3)`.\n",
    "Find out more in the official Pandas [documentation](https://pandas.pydata.org/pandas-docs/stable/reference/api/pandas.DataFrame.plot.html#pandas.DataFrame.plot)."
   ]
  },
  {
   "cell_type": "code",
   "execution_count": null,
   "metadata": {},
   "outputs": [],
   "source": [
    "df['mpg'].plot.hist(bins=20, color='DarkBlue')"
   ]
  },
  {
   "cell_type": "markdown",
   "metadata": {},
   "source": [
    "## Customizing Markers\n",
    "Finally, we'll customize the markers in our plot. The type of marker to be used can be specified using the `'marker'` parameter, which is inherited from the underlying Matplotlib library.\n",
    "Find out more in the official [Matplotlib documentation](https://matplotlib.org/stable/api/markers_api.html)."
   ]
  },
  {
   "cell_type": "code",
   "execution_count": null,
   "metadata": {},
   "outputs": [],
   "source": [
    "df.plot.scatter(x='mpg', y='weight', marker='x')"
   ]
  },
  {
   "cell_type": "markdown",
   "metadata": {},
   "source": [
    "As we have seen, there are many ways we can customize our plots using built-in pandas functions. Keep in mind, for more sophisticated customization, we might need to import other libraries like Matplotlib or Seaborn. However, for quick data exploration, pandas provides enough functionality to start with. Happy plotting!"
   ]
  }
 ],
 "metadata": {
  "kernelspec": {
   "display_name": "Python 3.11",
   "language": "python",
   "name": "python311"
  },
  "language_info": {
   "codemirror_mode": {
    "name": "ipython",
    "version": 3
   },
   "file_extension": ".py",
   "mimetype": "text/x-python",
   "name": "python",
   "nbconvert_exporter": "python",
   "pygments_lexer": "ipython3",
   "version": "3.11.0"
  }
 },
 "nbformat": 4,
 "nbformat_minor": 5
}
