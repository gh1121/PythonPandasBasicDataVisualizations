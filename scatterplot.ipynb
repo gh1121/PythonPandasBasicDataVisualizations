{
 "cells": [
  {
   "cell_type": "markdown",
   "metadata": {},
   "source": [
    "# Scatterplot with Pandas\n",
    "\n",
    "In this notebook, we'll explore how to generate scatterplots with pandas. We will plot a simple scatter plot of two numeric variables, and then plot a scatterplot of two numeric variables colored by a categorical variable.\n",
    "\n",
    "Import the pandas library:"
   ]
  },
  {
   "cell_type": "code",
   "execution_count": null,
   "metadata": {},
   "outputs": [],
   "source": [
    "import pandas as pd"
   ]
  },
  {
   "cell_type": "markdown",
   "metadata": {},
   "source": [
    "## Load the dataset\n",
    "Load and preview our dataset with this code:"
   ]
  },
  {
   "cell_type": "code",
   "execution_count": null,
   "metadata": {},
   "outputs": [],
   "source": [
    "url = 'https://raw.githubusercontent.com/mwaskom/seaborn-data/master/mpg.csv'\n",
    "df = pd.read_csv(url)\n",
    "df.head()"
   ]
  },
  {
   "cell_type": "markdown",
   "metadata": {},
   "source": [
    "### Simple Scatter Plot\n",
    "\n",
    "Let's first create a simple scatter plot of `mpg` against `weight` with a custom color. For more information, refer to the [Pandas Documentation](https://pandas.pydata.org/pandas-docs/version/0.25.0/reference/api/pandas.DataFrame.plot.scatter.html).\n"
   ]
  },
  {
   "cell_type": "code",
   "execution_count": null,
   "metadata": {},
   "outputs": [],
   "source": [
    "df.plot.scatter(x='mpg', y='weight', c='DarkBlue')"
   ]
  },
  {
   "cell_type": "markdown",
   "metadata": {},
   "source": [
    "### Scatter Plot with Two Numeric and One Categorical Variable\n",
    "\n",
    "Next, we will color the markers in our scatterplot by categories from a third column. We'll create a custom color map based on values of the `origin` column and apply it to the scatter plot of `mpg` and `weight`. For more information, refer to the [Pandas Documentation](https://pandas.pydata.org/pandas-docs/version/0.25.0/reference/api/pandas.DataFrame.plot.scatter.html).\n"
   ]
  },
  {
   "cell_type": "code",
   "execution_count": null,
   "metadata": {},
   "outputs": [],
   "source": [
    "colors = {'europe':'blue', 'usa':'red', 'japan':'green'}\n",
    "df.plot.scatter(x='mpg', y='weight', c=df['origin'].map(colors))"
   ]
  },
  {
   "cell_type": "markdown",
   "metadata": {},
   "source": [
    "And that's it! You have learned the basics of creating scatterplots in Pandas to examine the relationship between two or more numerical variables across different categories. Well done!"
   ]
  }
 ],
 "metadata": {
  "kernelspec": {
   "display_name": "Python 3.11",
   "language": "python",
   "name": "python311"
  },
  "language_info": {
   "codemirror_mode": {
    "name": "ipython",
    "version": 3
   },
   "file_extension": ".py",
   "mimetype": "text/x-python",
   "name": "python",
   "nbconvert_exporter": "python",
   "pygments_lexer": "ipython3",
   "version": "3.11"
  }
 },
 "nbformat": 4,
 "nbformat_minor": 2
}
