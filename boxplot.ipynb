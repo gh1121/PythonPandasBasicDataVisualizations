{
 "cells": [
  {
   "cell_type": "markdown",
   "metadata": {},
   "source": [
    "# Boxplots with Pandas\n",
    "\n",
    "In this notebook, we will explore how to create box plots using the built-in plotting capabilities of pandas. Box plots provide a visual summary of the minimum, first quartile (25th percentile), median (50th percentile), third quartile (75th percentile), and maximum of a dataset.\n",
    "\n",
    "Let's start by loading the pandas library:"
   ]
  },
  {
   "cell_type": "code",
   "execution_count": null,
   "metadata": {},
   "outputs": [],
   "source": [
    "import pandas as pd"
   ]
  },
  {
   "cell_type": "markdown",
   "metadata": {},
   "source": [
    "## Load the dataset\n",
    "\n",
    "Let's load our sample data:"
   ]
  },
  {
   "cell_type": "code",
   "execution_count": null,
   "metadata": {},
   "outputs": [],
   "source": [
    "url = 'https://raw.githubusercontent.com/mwaskom/seaborn-data/master/mpg.csv'\n",
    "df = pd.read_csv(url)\n",
    "df.head()"
   ]
  },
  {
   "cell_type": "markdown",
   "metadata": {},
   "source": [
    "## Single Column Boxplot\n",
    "\n",
    "The first type of boxplot we will create is a boxplot of a single column.\n",
    "\n",
    "You can find the official documentation [here](https://pandas.pydata.org/docs/reference/api/pandas.DataFrame.plot.box.html)."
   ]
  },
  {
   "cell_type": "code",
   "execution_count": null,
   "metadata": {},
   "outputs": [],
   "source": [
    "# Single Column Boxplot\n",
    "df['mpg'].plot.box()"
   ]
  },
  {
   "cell_type": "markdown",
   "metadata": {},
   "source": [
    "## Boxplot Grouped by a Categorical Column\n",
    "\n",
    "We can also create a boxplot of a numerical variable grouped by categories from another column. \n",
    "\n",
    "You can find the official documentation [here](https://pandas.pydata.org/docs/reference/api/pandas.DataFrame.boxplot.html)."
   ]
  },
  {
   "cell_type": "code",
   "execution_count": null,
   "metadata": {},
   "outputs": [],
   "source": [
    "# Boxplot of horsepower grouped by origin\n",
    "df.boxplot(column = 'horsepower', by = 'origin')"
   ]
  },
  {
   "cell_type": "markdown",
   "metadata": {},
   "source": [
    "And that's it! You have seen how to create boxplots to display essential summary statistics of your data as well as their outliers. Box plots are a great tool for quickly summarizing and comparing different variables in your dataset."
   ]
  }
 ],
 "metadata": {
  "kernelspec": {
   "display_name": "Python 3",
   "language": "python",
   "name": "python3"
  },
  "language_info": {
   "codemirror_mode": {
    "name": "ipython",
    "version": 3
   },
   "file_extension": ".py",
   "mimetype": "text/x-python",
   "name": "python",
   "nbconvert_exporter": "python",
   "pygments_lexer": "ipython3",
   "version": "3.11.0"
  }
 },
 "nbformat": 4,
 "nbformat_minor": 5
}
