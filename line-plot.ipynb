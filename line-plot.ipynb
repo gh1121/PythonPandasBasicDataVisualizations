{
 "cells": [
  {
   "cell_type": "markdown",
   "metadata": {},
   "source": [
    "# Time Series: Line Plots"
   ]
  },
  {
   "cell_type": "markdown",
   "metadata": {},
   "source": [
    "In this notebook, we will create line plots using pandas. These types of plots are often used for visualizing time series data.\n",
    "\n",
    "We'll start by importing the pandas library and then loading a dataset from a URL."
   ]
  },
  {
   "cell_type": "code",
   "execution_count": null,
   "metadata": {},
   "outputs": [],
   "source": [
    "import pandas as pd"
   ]
  },
  {
   "cell_type": "markdown",
   "metadata": {},
   "source": [
    "## Load the Data"
   ]
  },
  {
   "cell_type": "code",
   "execution_count": null,
   "metadata": {},
   "outputs": [],
   "source": [
    "url = 'https://raw.githubusercontent.com/mwaskom/seaborn-data/master/mpg.csv'\n",
    "df = pd.read_csv(url)\n",
    "df.head()"
   ]
  },
  {
   "cell_type": "markdown",
   "metadata": {},
   "source": [
    "Let's create a simple line chart to show the mean `mpg` for each `model_year`."
   ]
  },
  {
   "cell_type": "code",
   "execution_count": null,
   "metadata": {},
   "outputs": [],
   "source": [
    "(pd\n",
    " .pivot_table(data = df, \n",
    "              index = ['model_year'], \n",
    "              values = ['mpg'], \n",
    "              aggfunc = 'mean')\n",
    " .plot\n",
    " .line())"
   ]
  },
  {
   "cell_type": "markdown",
   "metadata": {},
   "source": [
    "Next, let's create a line chart that includes multiple lines for `mpg` and `horsepower`."
   ]
  },
  {
   "cell_type": "code",
   "execution_count": null,
   "metadata": {},
   "outputs": [],
   "source": [
    "(pd\n",
    " .pivot_table(data = df, \n",
    "              index = ['model_year'], \n",
    "              values = ['mpg', 'horsepower'], \n",
    "              aggfunc = 'mean')\n",
    " .plot\n",
    " .line())"
   ]
  },
  {
   "cell_type": "markdown",
   "metadata": {},
   "source": [
    "Showing two line charts on one axis works well when both lines are just two different groups of the same variable, or two different variables on similar scales. If we want to plot two variables on different scales, we can create a line chart with two axes - one for `mpg` and another for `horsepower`."
   ]
  },
  {
   "cell_type": "code",
   "execution_count": null,
   "metadata": {},
   "outputs": [],
   "source": [
    "import matplotlib.pyplot as plt\n",
    "\n",
    "fig, ax = plt.subplots() \n",
    "pivot = pd.pivot_table(df, index = ['model_year'], values = ['mpg', 'horsepower'], aggfunc = 'mean').reset_index()\n",
    "pivot.plot(x = 'model_year', y = 'mpg', ax = ax) \n",
    "pivot.plot(x = 'model_year', y = 'horsepower', ax = ax, secondary_y = True) "
   ]
  },
  {
   "cell_type": "markdown",
   "metadata": {},
   "source": [
    "That's it! You have learned the basics of pandas line plots, which are a great tool to visualize time series data, among other things."
   ]
  }
 ],
 "metadata": {
  "kernelspec": {
   "display_name": "Python 3.11",
   "language": "python",
   "name": "python3"
  },
  "language_info": {
   "codemirror_mode": {
    "name": "ipython",
    "version": 3
   },
   "file_extension": ".py",
   "mimetype": "text/x-python",
   "name": "python",
   "nbconvert_exporter": "python",
   "pygments_lexer": "ipython3",
   "version": "3.11.0"
  }
 },
 "nbformat": 4,
 "nbformat_minor": 5
}
